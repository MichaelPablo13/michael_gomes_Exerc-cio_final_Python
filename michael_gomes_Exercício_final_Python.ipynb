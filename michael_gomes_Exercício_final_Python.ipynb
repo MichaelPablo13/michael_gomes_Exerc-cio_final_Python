{
  "nbformat": 4,
  "nbformat_minor": 0,
  "metadata": {
    "colab": {
      "provenance": [],
      "include_colab_link": true
    },
    "kernelspec": {
      "name": "python3",
      "display_name": "Python 3"
    },
    "language_info": {
      "name": "python"
    }
  },
  "cells": [
    {
      "cell_type": "markdown",
      "metadata": {
        "id": "view-in-github",
        "colab_type": "text"
      },
      "source": [
        "<a href=\"https://colab.research.google.com/github/MichaelPablo13/michael_gomes_Exerc-cio_final_Python/blob/main/michael_gomes_Exerc%C3%ADcio_final_Python.ipynb\" target=\"_parent\"><img src=\"https://colab.research.google.com/assets/colab-badge.svg\" alt=\"Open In Colab\"/></a>"
      ]
    },
    {
      "cell_type": "markdown",
      "source": [
        "# Exercício avaliativo de Python Basic\n"
      ],
      "metadata": {
        "id": "Ze14NIEmY-D2"
      }
    },
    {
      "cell_type": "markdown",
      "source": [
        "1. Crie uma classe enviarMensagens que tenha como variável padrão para inicialização a mensagem (Deve estar no __init__)\n",
        "\n",
        "\n",
        "*   a classe deve ter um método enviar email com parâmetros email e titulo e estes serão usados na biblioteca de envio de email\n",
        "*   Use a biblioteca smtplib\n",
        "\n",
        "\n",
        "\n"
      ],
      "metadata": {
        "id": "j0-c_ZEeZinL"
      }
    },
    {
      "cell_type": "code",
      "source": [
        "import smtplib as smtp\n",
        "\n",
        "# Server keys from mailtrap\n",
        "SERVER_USER = \"xxxxxx\" \n",
        "SERVER_PASSWORD = \"xxxxxx\"\n",
        "\n",
        "NOME_SERVIDOR = \"sandbox.smtp.mailtrap.io\"\n",
        "PORTA = 2525\n",
        "\n",
        "class CreateServer(object):\n",
        "  def __init__ (self, sender, receiver, message, title):\n",
        "    self.title = title\n",
        "    self.sender = sender\n",
        "    self.receiver = receiver\n",
        "    self.message = message\n",
        "\n",
        "  def mailAddressSenderReceiver():\n",
        "    mail_sender = \"Private Person {}\".format(self.sender) # Here I will use my personal e-mail\n",
        "    mail_receiver = \"A Test User {}\".format(self.receiver) # Here I will use my personal e-mail\n",
        "    return mail_receiver, mail_sender\n",
        "\n",
        "\n",
        "  def createServer():\n",
        "      with smtp.SMTP(NOME_SERVIDOR, PORTA) as server:\n",
        "        server.login(SERVER_USER, SERVER_PASSWORD)\n",
        "        server.sendmail(mail_sender, mail_receiver, message)\n",
        "    \n",
        "\n",
        "\n",
        "\n",
        "    \n",
        "\n"
      ],
      "metadata": {
        "id": "4gbCaduayKT_"
      },
      "execution_count": 4,
      "outputs": []
    },
    {
      "cell_type": "code",
      "source": [
        "class enviarMensagens(CreateServer):\n",
        "  def __init__(self, email, titulo, mensagem):\n",
        "    super(CreateServer, self).__init__()\n",
        "    self.mensagem = mensagem\n",
        "    self.email = email\n",
        "\n",
        "  def criarServidor(nome_servidor, port):\n",
        "    with smtplib.SMTP(nome_servidor, port) as server:\n",
        "      server.login(SERVER_USER, SERVER_PASSWORD)\n",
        "      server.sendmail(sender, receiver, message)\n",
        "\n",
        "  def enviarEmail(email, titulo):\n",
        "    server = criarServidor(NOME_SERVIDOR, PORTA)\n",
        "    server.sendmail(sender, receiver, message)\n",
        "\n",
        "  "
      ],
      "metadata": {
        "id": "fZaATqA9aUax"
      },
      "execution_count": null,
      "outputs": []
    },
    {
      "cell_type": "code",
      "source": [],
      "metadata": {
        "id": "n8yM3DGkyIUU"
      },
      "execution_count": null,
      "outputs": []
    },
    {
      "cell_type": "markdown",
      "source": [
        "2. Crie uma classe com os seguintes métodos:\n",
        " \n",
        "\n",
        "*   verificar_servidor (Use o socket) como parâmetro, o método usa o ip/dominio e a porta, deve salvar em um arquivo csv dia e hora e o resultado ( se conseguiu ou não), por fim, deve enviar email caso tenha dado errado.\n",
        "*   verificar_portas (Use o nmap) como parâmetro, insira o dominio para teste e o resultado deve ser salvo em um arquivo csv para analises\n",
        "*   realizar_ping (use uma lib de ping de sua preferência) como parâmetro entre o ip/domínio e salve o resultado em um arquivo csv, caso tenha erro no ping, envie email informando o erro, o dia e hora do ocorrido.\n",
        "\n",
        "\n",
        "---\n",
        "\n",
        "\n",
        "**ps.: os dados não podem ser apagados e sim inseridos ao final do arquivo**\n",
        "\n",
        "\n",
        "\n"
      ],
      "metadata": {
        "id": "1T3VR1czZMOn"
      }
    },
    {
      "cell_type": "code",
      "source": [
        "# Criar aqui a classe"
      ],
      "metadata": {
        "id": "PtVilAZnZK-G"
      },
      "execution_count": null,
      "outputs": []
    },
    {
      "cell_type": "markdown",
      "source": [
        "Rode o programa, verificando o servidor, as portas abertas e vendo o ping com o seguintes IP´s/DOminos\n",
        "dominios_ips = ['186.202.153.153', 'www.google.com.br', 'minhacasa.edu.br']"
      ],
      "metadata": {
        "id": "qcGofAQcbddU"
      }
    },
    {
      "cell_type": "code",
      "execution_count": null,
      "metadata": {
        "id": "gjJ2NUFWYxSH"
      },
      "outputs": [],
      "source": [
        "# Rode aqui seu código"
      ]
    }
  ]
}
