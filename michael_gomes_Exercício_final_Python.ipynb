{
  "nbformat": 4,
  "nbformat_minor": 0,
  "metadata": {
    "colab": {
      "provenance": [],
      "include_colab_link": true
    },
    "kernelspec": {
      "name": "python3",
      "display_name": "Python 3"
    },
    "language_info": {
      "name": "python"
    }
  },
  "cells": [
    {
      "cell_type": "markdown",
      "metadata": {
        "id": "view-in-github",
        "colab_type": "text"
      },
      "source": [
        "<a href=\"https://colab.research.google.com/github/MichaelPablo13/michael_gomes_Exerc-cio_final_Python/blob/main/michael_gomes_Exerc%C3%ADcio_final_Python.ipynb\" target=\"_parent\"><img src=\"https://colab.research.google.com/assets/colab-badge.svg\" alt=\"Open In Colab\"/></a>"
      ]
    },
    {
      "cell_type": "markdown",
      "source": [
        "# Exercício avaliativo de Python Basic\n"
      ],
      "metadata": {
        "id": "Ze14NIEmY-D2"
      }
    },
    {
      "cell_type": "markdown",
      "source": [
        "1. Crie uma classe enviarMensagens que tenha como variável padrão para inicialização a mensagem (Deve estar no __init__)\n",
        "\n",
        "\n",
        "*   a classe deve ter um método enviar email com parâmetros email e titulo e estes serão usados na biblioteca de envio de email\n",
        "*   Use a biblioteca smtplib\n",
        "\n",
        "\n",
        "\n"
      ],
      "metadata": {
        "id": "j0-c_ZEeZinL"
      }
    },
    {
      "cell_type": "code",
      "source": [
        "import smtplib as smtp\n",
        "\n",
        "# Server keys from mailtrap\n",
        "SERVER_USER = \"xxxxxxxx\" \n",
        "SERVER_PASSWORD = \"xxxxxxxx\"\n",
        "\n",
        "NOME_SERVIDOR = \"sandbox.smtp.mailtrap.io\"\n",
        "PORTA = 2525\n",
        "\n",
        "class CriarServidor(object):\n",
        "  def __init__ (self, usuario, senha, nomeServidor, porta):\n",
        "    self.usuario = usuario\n",
        "    self.senha = senha\n",
        "    self.nomeServidor = nomeServidor\n",
        "    self.porta = porta\n",
        "\n",
        "  def enviarMensagem(self, remetente, destinatario, mensagem):\n",
        "    with smtp.SMTP(self.nomeServidor, self.porta) as server:\n",
        "        server.login(self.usuario, self.senha)\n",
        "        server.sendmail(remetente, destinatario, mensagem)\n"
      ],
      "metadata": {
        "id": "4gbCaduayKT_"
      },
      "execution_count": 39,
      "outputs": []
    },
    {
      "cell_type": "code",
      "source": [
        "class MontarMensagens(object):\n",
        "  def __init__(self, titulo, remetente, destinatario, mensagem):\n",
        "    self.titulo = titulo\n",
        "    self.remetente = remetente\n",
        "    self.destinatario = destinatario\n",
        "    self.mensagem = mensagem\n",
        "\n",
        "  def mailRemetenteDestinatarioMensagem(self):\n",
        "    mail_sender = \"Private Person {}\".format(self.remetente) # use personal e-mail\n",
        "    mail_receiver = \"A Test User {}\".format(self.destinatario) # use personal e-mail\n",
        "    mensagem = f\"\"\"\\\n",
        "        Subject: {self.titulo}\n",
        "        To: {self.destinatario}\n",
        "        From: {self.remetente}\n",
        "\n",
        "        {self.mensagem}.\"\"\"\n",
        "    return mensagem.encode('utf-8').strip()\n",
        "  "
      ],
      "metadata": {
        "id": "fZaATqA9aUax"
      },
      "execution_count": 47,
      "outputs": []
    },
    {
      "cell_type": "code",
      "source": [
        "Mensagem = MontarMensagens(\"Teste Título\",  \n",
        "                           \"michael_pablo13@hotmail.com\", \n",
        "                          \"michael_pablo13@hotmail.com\", \"Olá SMTP\").mailRemetenteDestinatarioMensagem()\n",
        "\n",
        "Server = CriarServidor(SERVER_USER, \n",
        "                      SERVER_PASSWORD, \n",
        "                      NOME_SERVIDOR, PORTA)\n",
        "\n",
        "Server.enviarMensagem(\"michael_pablo13@hotmail.com\", \n",
        "                      \"michael_pablo13@hotmail.com\", Mensagem)\n",
        "\n",
        "\n"
      ],
      "metadata": {
        "id": "n8yM3DGkyIUU",
        "colab": {
          "base_uri": "https://localhost:8080/"
        },
        "outputId": "35948950-5437-4d52-be4c-511d9ca1d206"
      },
      "execution_count": 48,
      "outputs": [
        {
          "output_type": "stream",
          "name": "stdout",
          "text": [
            "b'Subject: Teste T\\xc3\\xadtulo\\n        To: michael_pablo13@hotmail.com\\n        From: michael_pablo13@hotmail.com\\n\\n        Ol\\xc3\\xa1 SMTP.'\n"
          ]
        }
      ]
    },
    {
      "cell_type": "markdown",
      "source": [
        "2. Crie uma classe com os seguintes métodos:\n",
        " \n",
        "\n",
        "*   verificar_servidor (Use o socket) como parâmetro, o método usa o ip/dominio e a porta, deve salvar em um arquivo csv dia e hora e o resultado ( se conseguiu ou não), por fim, deve enviar email caso tenha dado errado.\n",
        "*   verificar_portas (Use o nmap) como parâmetro, insira o dominio para teste e o resultado deve ser salvo em um arquivo csv para analises\n",
        "*   realizar_ping (use uma lib de ping de sua preferência) como parâmetro entre o ip/domínio e salve o resultado em um arquivo csv, caso tenha erro no ping, envie email informando o erro, o dia e hora do ocorrido.\n",
        "\n",
        "\n",
        "---\n",
        "\n",
        "\n",
        "**ps.: os dados não podem ser apagados e sim inseridos ao final do arquivo**\n",
        "\n",
        "\n",
        "\n"
      ],
      "metadata": {
        "id": "1T3VR1czZMOn"
      }
    },
    {
      "cell_type": "code",
      "source": [
        "# Criar aqui a classe"
      ],
      "metadata": {
        "id": "PtVilAZnZK-G"
      },
      "execution_count": null,
      "outputs": []
    },
    {
      "cell_type": "markdown",
      "source": [
        "Rode o programa, verificando o servidor, as portas abertas e vendo o ping com o seguintes IP´s/DOminos\n",
        "dominios_ips = ['186.202.153.153', 'www.google.com.br', 'minhacasa.edu.br']"
      ],
      "metadata": {
        "id": "qcGofAQcbddU"
      }
    },
    {
      "cell_type": "code",
      "execution_count": null,
      "metadata": {
        "id": "gjJ2NUFWYxSH"
      },
      "outputs": [],
      "source": [
        "# Rode aqui seu código"
      ]
    }
  ]
}
