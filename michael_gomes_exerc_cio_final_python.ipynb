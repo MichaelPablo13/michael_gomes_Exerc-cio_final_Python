{
  "nbformat": 4,
  "nbformat_minor": 0,
  "metadata": {
    "colab": {
      "provenance": [],
      "include_colab_link": true
    },
    "kernelspec": {
      "name": "python3",
      "display_name": "Python 3"
    },
    "language_info": {
      "name": "python"
    }
  },
  "cells": [
    {
      "cell_type": "markdown",
      "metadata": {
        "id": "view-in-github",
        "colab_type": "text"
      },
      "source": [
        "<a href=\"https://colab.research.google.com/github/MichaelPablo13/michael_gomes_Exerc-cio_final_Python/blob/main/michael_gomes_exerc_cio_final_python.ipynb\" target=\"_parent\"><img src=\"https://colab.research.google.com/assets/colab-badge.svg\" alt=\"Open In Colab\"/></a>"
      ]
    },
    {
      "cell_type": "markdown",
      "source": [
        "# Exercício avaliativo de Python Basic\n"
      ],
      "metadata": {
        "id": "Ze14NIEmY-D2"
      }
    },
    {
      "cell_type": "markdown",
      "source": [
        "1. Crie uma classe enviarMensagens que tenha como variável padrão para inicialização a mensagem (Deve estar no __init__)\n",
        "\n",
        "\n",
        "*   a classe deve ter um método enviar email com parâmetros email e titulo e estes serão usados na biblioteca de envio de email\n",
        "*   Use a biblioteca smtplib\n",
        "\n",
        "\n",
        "\n"
      ],
      "metadata": {
        "id": "j0-c_ZEeZinL"
      }
    },
    {
      "cell_type": "code",
      "source": [
        "import smtplib as smtp\n",
        "\n",
        "# Server keys from mailtrap\n",
        "SERVER_USER = \"xxxxxxxx\" \n",
        "SERVER_PASSWORD = \"xxxxxxxx\"\n",
        "\n",
        "NOME_SERVIDOR = \"sandbox.smtp.mailtrap.io\"\n",
        "PORTA = 2525\n",
        "\n",
        "class enviarMensagens(object):\n",
        "  def __init__ (self, usuario, senha, nomeServidor, porta):\n",
        "    self.usuario = usuario\n",
        "    self.senha = senha\n",
        "    self.nomeServidor = nomeServidor\n",
        "    self.porta = porta\n",
        "\n",
        "  def enviarMensagem(self, remetente, destinatario, mensagem):\n",
        "    with smtp.SMTP(self.nomeServidor, self.porta) as server:\n",
        "        server.login(self.usuario, self.senha)\n",
        "        server.sendmail(remetente, destinatario, mensagem)\n",
        "  \n",
        "class MontarMensagens(object):\n",
        "  def __init__(self, titulo, remetente, destinatario, mensagem):\n",
        "    self.titulo = titulo\n",
        "    self.remetente = remetente\n",
        "    self.destinatario = destinatario\n",
        "    self.mensagem = mensagem\n",
        "\n",
        "  def mailRemetenteDestinatarioMensagem(self):\n",
        "    mail_sender = \"Private Person {}\".format(self.remetente) # use personal e-mail\n",
        "    mail_receiver = \"A Test User {}\".format(self.destinatario) # use personal e-mail\n",
        "    mensagem = f\"\"\"\\\n",
        "        Subject: {self.titulo}\n",
        "        To: {self.destinatario}\n",
        "        From: {self.remetente}\n",
        "\n",
        "        {self.mensagem}.\"\"\"\n",
        "    return mensagem.encode('utf-8').strip()\n"
      ],
      "metadata": {
        "id": "4gbCaduayKT_"
      },
      "execution_count": null,
      "outputs": []
    },
    {
      "cell_type": "code",
      "source": [
        "Mensagem = MontarMensagens(\"Teste Título\",  \n",
        "                           \"michael_pablo13@hotmail.com\", \n",
        "                          \"michael_pablo13@hotmail.com\", \"Olá SMTP\").mailRemetenteDestinatarioMensagem()\n",
        "\n",
        "Server = enviarMensagens(SERVER_USER, \n",
        "                      SERVER_PASSWORD, \n",
        "                      NOME_SERVIDOR, PORTA)\n",
        "\n",
        "Server.enviarMensagem(\"michael_pablo13@hotmail.com\", \n",
        "                      \"michael_pablo13@hotmail.com\", Mensagem)\n",
        "\n",
        "\n",
        "\n",
        "  "
      ],
      "metadata": {
        "id": "fZaATqA9aUax"
      },
      "execution_count": null,
      "outputs": []
    },
    {
      "cell_type": "code",
      "source": [
        "!pip install ping3\n",
        "!sudo apt install nmap\n",
        "!pip install python3-nmap\n",
        "!clear"
      ],
      "metadata": {
        "id": "iEsjbHjtTbIZ",
        "colab": {
          "base_uri": "https://localhost:8080/"
        },
        "outputId": "80bbf6da-ecab-4d6e-a579-a750759ac23a"
      },
      "execution_count": null,
      "outputs": [
        {
          "output_type": "stream",
          "name": "stdout",
          "text": [
            "Looking in indexes: https://pypi.org/simple, https://us-python.pkg.dev/colab-wheels/public/simple/\n",
            "Requirement already satisfied: ping3 in /usr/local/lib/python3.8/dist-packages (4.0.4)\n",
            "Reading package lists... Done\n",
            "Building dependency tree       \n",
            "Reading state information... Done\n",
            "nmap is already the newest version (7.80+dfsg1-2build1).\n",
            "The following package was automatically installed and is no longer required:\n",
            "  libnvidia-common-510\n",
            "Use 'sudo apt autoremove' to remove it.\n",
            "0 upgraded, 0 newly installed, 0 to remove and 21 not upgraded.\n",
            "Looking in indexes: https://pypi.org/simple, https://us-python.pkg.dev/colab-wheels/public/simple/\n",
            "Requirement already satisfied: python3-nmap in /usr/local/lib/python3.8/dist-packages (1.6.0)\n",
            "Requirement already satisfied: simplejson in /usr/local/lib/python3.8/dist-packages (from python3-nmap) (3.18.3)\n",
            "\u001b[H\u001b[2J"
          ]
        }
      ]
    },
    {
      "cell_type": "markdown",
      "source": [
        "2. Crie uma classe com os seguintes métodos:\n",
        " \n",
        "\n",
        "*   verificar_servidor (Use o socket) como parâmetro, o método usa o ip/dominio e a porta, deve salvar em um arquivo csv dia e hora e o resultado ( se conseguiu ou não), por fim, deve enviar email caso tenha dado errado.\n",
        "*   verificar_portas (Use o nmap) como parâmetro, insira o dominio para teste e o resultado deve ser salvo em um arquivo csv para analises\n",
        "*   realizar_ping (use uma lib de ping de sua preferência) como parâmetro entre o ip/domínio e salve o resultado em um arquivo csv, caso tenha erro no ping, envie email informando o erro, o dia e hora do ocorrido.\n",
        "\n",
        "\n",
        "---\n",
        "\n",
        "\n",
        "**ps.: os dados não podem ser apagados e sim inseridos ao final do arquivo**\n",
        "\n",
        "\n",
        "\n"
      ],
      "metadata": {
        "id": "1T3VR1czZMOn"
      }
    },
    {
      "cell_type": "code",
      "source": [
        "#@title\n",
        "from datetime import datetime\n",
        "from ping3 import ping, verbose_ping\n",
        "import time\n",
        "import pandas as pd\n",
        "import nmap3\n",
        "import socket\n",
        "\n",
        "class Saude_de_Servidor():\n",
        "  def __init__(self, ip, porta):\n",
        "    self.ip = ip\n",
        "    self.porta = porta\n",
        "\n",
        "  def verificar_portas(ip_portas):\n",
        "    resultado_df = []\n",
        "    for ip, porta in ips_portas:\n",
        "      nmap = nmap3.Nmap()\n",
        "      consulta = nmap.scan_top_ports(ip) \n",
        "      resultado_df.append(consulta)\n",
        "      print(\"@@@@@@@@@@@@@ Verificar Portas Teste\")\n",
        "      print(consulta)\n",
        "      df_to_csv = pd.DataFrame(resultado_df)\n",
        "      df_to_csv.to_csv(\"portas_nmap3_teste\" + time.strftime(\"%Y%m%d%H%M%S\") +\".csv\")\n",
        "\n",
        "  def verificar_servidor(ips_portas):\n",
        "    resultado_socket_para_df = []\n",
        "    for ip, porta in ips_portas:\n",
        "      print(ip, porta)\n",
        "      sock = socket.socket(socket.AF_INET, socket.SOCK_STREAM)\n",
        "      resultado_socket = sock.connect_ex((ip, porta))\n",
        "      print(resultado_socket)\n",
        "      if resultado_socket == 0:\n",
        "        resultado_socket_para_df.append(f\"\"\"Hora: {time.strftime(\"%Y%m%d%H%M%S\")} \n",
        "        - Resultado: {resultado_socket} - Porta Aberta\"\"\")\n",
        "        print(\"Porta esta aberta \" + time.strftime(\"%Y.%m.%d %H:%M:%S\"))\n",
        "      else:\n",
        "        resultado_socket_para_df.append(f\"\"\"Hora: {time.strftime(\"%Y%m%d%H%M%S\")} \n",
        "        - Resultado: {resultado_socket} - Porta Fechada\"\"\")\n",
        "        print(\"Ip e porta não estão disponíveis \" + time.strftime(\"%Y.%m.%d %H:%M:%S\"))\n",
        "        now = datetime.now()\n",
        "        timer_agora = now.strftime(\"%Y.%m.%d %H:%M:%S\")\n",
        "        mensagem = f\"\"\" \n",
        "                    Timer: {timer_agora} - {ip}:{porta}\n",
        "                    O IP {ip} e Porta {porta} está fora.\n",
        "                    \"\"\"\n",
        "        \n",
        "        Mensagem = MontarMensagens(\"Ip e porta não estão disponíveis\",  \n",
        "                              \"michael_pablo13@hotmail.com\", \n",
        "                            \"michael_pablo13@hotmail.com\", mensagem).mailRemetenteDestinatarioMensagem()\n",
        "\n",
        "        Server = enviarMensagens(SERVER_USER, \n",
        "                              SERVER_PASSWORD, \n",
        "                              NOME_SERVIDOR, PORTA)\n",
        "        \n",
        "        Server.enviarMensagem(\"michael_pablo13@hotmail.com\", \n",
        "                              \"michael_pablo13@hotmail.com\", Mensagem)\n",
        "    print(resultado_socket_para_df)    \n",
        "    df_ping_porta = pd.DataFrame(resultado_socket_para_df)\n",
        "    df_ping_porta.to_csv(time.strftime(\"%Y%m%d%H%M%S\") +\".csv\")\n",
        "    sock.close()  \n",
        "\n",
        "  def realizar_ping(ip_servidores):\n",
        "    ping_resultado = []\n",
        "    for ip, porta in ip_servidores:\n",
        "      resultado_ping = ping(ip)\n",
        "      if(resultado_ping == None) or (resultado_ping == False):\n",
        "        ping_resultado.append(f\"\"\"Houve Error: {resultado_ping} às {time.strftime(\"%Y%m%d%H%M%S\")}\"\"\")\n",
        "      else:\n",
        "        ping_resultado.append(f\"\"\"Houve retorno de: {resultado_ping}.ms\"\"\")\n",
        "        now = datetime.now()\n",
        "        timer_agora = now.strftime(\"%Y.%m.%d %H:%M:%S\")\n",
        "        mensagem = f\"\"\" \n",
        "                    Timer: {timer_agora} - {ip}:{porta}\n",
        "                    O IP {ip} e Porta {porta} está fora.\n",
        "                    \"\"\"\n",
        "        \n",
        "        Mensagem = MontarMensagens(\"Erro no Ping\",  \n",
        "                              \"michael_pablo13@hotmail.com\", \n",
        "                            \"michael_pablo13@hotmail.com\", mensagem).mailRemetenteDestinatarioMensagem()\n",
        "\n",
        "        Server = enviarMensagens(SERVER_USER, \n",
        "                              SERVER_PASSWORD, \n",
        "                              NOME_SERVIDOR, PORTA)\n",
        "        \n",
        "        Server.enviarMensagem(\"michael_pablo13@hotmail.com\", \n",
        "                              \"michael_pablo13@hotmail.com\", Mensagem)\n",
        "    print(\"@@@@@@@@@@@@@ Realizar Ping Test\")\n",
        "    print(ping_resultado)\n",
        "    df_to_csv = pd.DataFrame(ping_resultado)\n",
        "    df_to_csv.to_csv(\"ping_test\" + time.strftime(\"%Y%m%d%H%M%S\") +\".csv\")\n",
        "    \n"
      ],
      "metadata": {
        "id": "PtVilAZnZK-G"
      },
      "execution_count": null,
      "outputs": []
    },
    {
      "cell_type": "markdown",
      "source": [
        "Rode o programa, verificando o servidor, as portas abertas e vendo o ping com o seguintes IP´s/DOminos\n",
        "dominios_ips = ['186.202.153.153', 'www.google.com.br', 'minhacasa.edu.br']"
      ],
      "metadata": {
        "id": "qcGofAQcbddU"
      }
    },
    {
      "cell_type": "code",
      "source": [
        "%%time\n",
        "ips_portas = [('186.202.153.153', 80), (\"186.202.153.153\", 80)]\n",
        "Saude_de_Servidor.verificar_servidor(ips_portas)\n",
        "Saude_de_Servidor.verificar_portas(ips_portas)\n",
        "Saude_de_Servidor.realizar_ping(ips_portas)"
      ],
      "metadata": {
        "id": "o8pGpCVyTsFH",
        "colab": {
          "base_uri": "https://localhost:8080/"
        },
        "outputId": "2339b38c-5095-48a6-acfa-8e51215c8462"
      },
      "execution_count": null,
      "outputs": [
        {
          "output_type": "stream",
          "name": "stdout",
          "text": [
            "localhost 8\n",
            "111\n",
            "Ip e porta não estão disponíveis 2023.02.19 21:18:42\n",
            "186.202.153.153 80\n",
            "0\n",
            "Porta esta aberta 2023.02.19 21:18:42\n",
            "['Hora: 20230219211842 \\n        - Resultado: 111 - Porta Fechada', 'Hora: 20230219211842 \\n        - Resultado: 0 - Porta Aberta']\n",
            "@@@@@@@@@@@@@ Verificar Portas Teste\n",
            "{'127.0.0.1': {'osmatch': {}, 'ports': [{'protocol': 'tcp', 'portid': '21', 'state': 'closed', 'reason': 'reset', 'reason_ttl': '64', 'service': {'name': 'ftp', 'method': 'table', 'conf': '3'}, 'cpe': [], 'scripts': []}, {'protocol': 'tcp', 'portid': '22', 'state': 'closed', 'reason': 'reset', 'reason_ttl': '64', 'service': {'name': 'ssh', 'method': 'table', 'conf': '3'}, 'cpe': [], 'scripts': []}, {'protocol': 'tcp', 'portid': '23', 'state': 'closed', 'reason': 'reset', 'reason_ttl': '64', 'service': {'name': 'telnet', 'method': 'table', 'conf': '3'}, 'cpe': [], 'scripts': []}, {'protocol': 'tcp', 'portid': '25', 'state': 'closed', 'reason': 'reset', 'reason_ttl': '64', 'service': {'name': 'smtp', 'method': 'table', 'conf': '3'}, 'cpe': [], 'scripts': []}, {'protocol': 'tcp', 'portid': '80', 'state': 'closed', 'reason': 'reset', 'reason_ttl': '64', 'service': {'name': 'http', 'method': 'table', 'conf': '3'}, 'cpe': [], 'scripts': []}, {'protocol': 'tcp', 'portid': '110', 'state': 'closed', 'reason': 'reset', 'reason_ttl': '64', 'service': {'name': 'pop3', 'method': 'table', 'conf': '3'}, 'cpe': [], 'scripts': []}, {'protocol': 'tcp', 'portid': '139', 'state': 'closed', 'reason': 'reset', 'reason_ttl': '64', 'service': {'name': 'netbios-ssn', 'method': 'table', 'conf': '3'}, 'cpe': [], 'scripts': []}, {'protocol': 'tcp', 'portid': '443', 'state': 'closed', 'reason': 'reset', 'reason_ttl': '64', 'service': {'name': 'https', 'method': 'table', 'conf': '3'}, 'cpe': [], 'scripts': []}, {'protocol': 'tcp', 'portid': '445', 'state': 'closed', 'reason': 'reset', 'reason_ttl': '64', 'service': {'name': 'microsoft-ds', 'method': 'table', 'conf': '3'}, 'cpe': [], 'scripts': []}, {'protocol': 'tcp', 'portid': '3389', 'state': 'closed', 'reason': 'reset', 'reason_ttl': '64', 'service': {'name': 'ms-wbt-server', 'method': 'table', 'conf': '3'}, 'cpe': [], 'scripts': []}], 'hostname': [{'name': 'localhost', 'type': 'user'}, {'name': 'localhost', 'type': 'PTR'}], 'macaddress': None, 'state': {'state': 'up', 'reason': 'localhost-response', 'reason_ttl': '0'}}, 'runtime': {'time': '1676841523', 'timestr': 'Sun Feb 19 21:18:43 2023', 'elapsed': '0.09', 'summary': 'Nmap done at Sun Feb 19 21:18:43 2023; 1 IP address (1 host up) scanned in 0.09 seconds', 'exit': 'success'}, 'stats': {'scanner': 'nmap', 'args': '/usr/bin/nmap -v -oX - --top-ports 10 localhost', 'start': '1676841523', 'startstr': 'Sun Feb 19 21:18:43 2023', 'version': '7.80', 'xmloutputversion': '1.04'}, 'task_results': [{'task': 'SYN Stealth Scan', 'time': '1676841523', 'extrainfo': '10 total ports'}]}\n",
            "@@@@@@@@@@@@@ Verificar Portas Teste\n",
            "{'186.202.153.153': {'osmatch': {}, 'ports': [{'protocol': 'tcp', 'portid': '21', 'state': 'open', 'reason': 'syn-ack', 'reason_ttl': '59', 'service': {'name': 'ftp', 'method': 'table', 'conf': '3'}, 'cpe': [], 'scripts': []}, {'protocol': 'tcp', 'portid': '22', 'state': 'open', 'reason': 'syn-ack', 'reason_ttl': '59', 'service': {'name': 'ssh', 'method': 'table', 'conf': '3'}, 'cpe': [], 'scripts': []}, {'protocol': 'tcp', 'portid': '23', 'state': 'filtered', 'reason': 'no-response', 'reason_ttl': '0', 'service': {'name': 'telnet', 'method': 'table', 'conf': '3'}, 'cpe': [], 'scripts': []}, {'protocol': 'tcp', 'portid': '25', 'state': 'filtered', 'reason': 'no-response', 'reason_ttl': '0', 'service': {'name': 'smtp', 'method': 'table', 'conf': '3'}, 'cpe': [], 'scripts': []}, {'protocol': 'tcp', 'portid': '80', 'state': 'open', 'reason': 'syn-ack', 'reason_ttl': '59', 'service': {'name': 'http', 'method': 'table', 'conf': '3'}, 'cpe': [], 'scripts': []}, {'protocol': 'tcp', 'portid': '110', 'state': 'filtered', 'reason': 'no-response', 'reason_ttl': '0', 'service': {'name': 'pop3', 'method': 'table', 'conf': '3'}, 'cpe': [], 'scripts': []}, {'protocol': 'tcp', 'portid': '139', 'state': 'filtered', 'reason': 'no-response', 'reason_ttl': '0', 'service': {'name': 'netbios-ssn', 'method': 'table', 'conf': '3'}, 'cpe': [], 'scripts': []}, {'protocol': 'tcp', 'portid': '443', 'state': 'open', 'reason': 'syn-ack', 'reason_ttl': '59', 'service': {'name': 'https', 'method': 'table', 'conf': '3'}, 'cpe': [], 'scripts': []}, {'protocol': 'tcp', 'portid': '445', 'state': 'filtered', 'reason': 'no-response', 'reason_ttl': '0', 'service': {'name': 'microsoft-ds', 'method': 'table', 'conf': '3'}, 'cpe': [], 'scripts': []}, {'protocol': 'tcp', 'portid': '3389', 'state': 'filtered', 'reason': 'no-response', 'reason_ttl': '0', 'service': {'name': 'ms-wbt-server', 'method': 'table', 'conf': '3'}, 'cpe': [], 'scripts': []}], 'hostname': [{'name': 'hm8237.locaweb.com.br', 'type': 'PTR'}], 'macaddress': None, 'state': {'state': 'up', 'reason': 'syn-ack', 'reason_ttl': '59'}}, 'runtime': {'time': '1676841525', 'timestr': 'Sun Feb 19 21:18:45 2023', 'elapsed': '2.06', 'summary': 'Nmap done at Sun Feb 19 21:18:45 2023; 1 IP address (1 host up) scanned in 2.06 seconds', 'exit': 'success'}, 'stats': {'scanner': 'nmap', 'args': '/usr/bin/nmap -v -oX - --top-ports 10 186.202.153.153', 'start': '1676841523', 'startstr': 'Sun Feb 19 21:18:43 2023', 'version': '7.80', 'xmloutputversion': '1.04'}, 'task_results': [{'task': 'Ping Scan', 'time': '1676841523', 'extrainfo': '1 total hosts'}, {'task': 'Parallel DNS resolution of 1 host.', 'time': '1676841523'}, {'task': 'SYN Stealth Scan', 'time': '1676841525', 'extrainfo': '10 total ports'}]}\n",
            "@@@@@@@@@@@@@ Realizar Ping Test\n",
            "['Houve retorno de: 0.00029778480529785156.ms', 'Houve retorno de: 0.12133193016052246.ms']\n",
            "CPU times: user 49.6 ms, sys: 40 ms, total: 89.6 ms\n",
            "Wall time: 3.32 s\n"
          ]
        }
      ]
    },
    {
      "cell_type": "code",
      "source": [],
      "metadata": {
        "id": "By29zR1rn9Tc"
      },
      "execution_count": null,
      "outputs": []
    }
  ]
}
